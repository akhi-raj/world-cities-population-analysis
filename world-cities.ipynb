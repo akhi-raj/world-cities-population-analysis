{
 "cells": [
  {
   "cell_type": "code",
   "execution_count": 2,
   "id": "70294eeb-f895-48d0-8041-0585ea48b610",
   "metadata": {},
   "outputs": [],
   "source": [
    "import pandas as pd"
   ]
  },
  {
   "cell_type": "code",
   "execution_count": 3,
   "id": "d08e0247-85e9-4544-b4e9-0c8bb4d76524",
   "metadata": {},
   "outputs": [],
   "source": [
    "df = pd.read_csv(r\"C:\\Users\\Admin\\Downloads\\wcp\\worldcities.csv\")"
   ]
  },
  {
   "cell_type": "code",
   "execution_count": 5,
   "id": "c829d38c-4abf-4889-8f9b-93a6f53d1324",
   "metadata": {},
   "outputs": [
    {
     "data": {
      "text/plain": [
       "(48056, 11)"
      ]
     },
     "execution_count": 5,
     "metadata": {},
     "output_type": "execute_result"
    }
   ],
   "source": [
    "df.shape"
   ]
  },
  {
   "cell_type": "code",
   "execution_count": 6,
   "id": "c0015b91-b344-4003-8275-3e2cc5293f88",
   "metadata": {},
   "outputs": [
    {
     "name": "stdout",
     "output_type": "stream",
     "text": [
      "<class 'pandas.core.frame.DataFrame'>\n",
      "RangeIndex: 48056 entries, 0 to 48055\n",
      "Data columns (total 11 columns):\n",
      " #   Column      Non-Null Count  Dtype  \n",
      "---  ------      --------------  -----  \n",
      " 0   city        48056 non-null  object \n",
      " 1   city_ascii  48055 non-null  object \n",
      " 2   lat         48056 non-null  float64\n",
      " 3   lng         48056 non-null  float64\n",
      " 4   country     48056 non-null  object \n",
      " 5   iso2        48023 non-null  object \n",
      " 6   iso3        48056 non-null  object \n",
      " 7   admin_name  47855 non-null  object \n",
      " 8   capital     15137 non-null  object \n",
      " 9   population  47805 non-null  float64\n",
      " 10  id          48056 non-null  int64  \n",
      "dtypes: float64(3), int64(1), object(7)\n",
      "memory usage: 4.0+ MB\n"
     ]
    }
   ],
   "source": [
    "df.info()"
   ]
  },
  {
   "cell_type": "code",
   "execution_count": 7,
   "id": "befb7559-a3ad-4a5c-a5c2-43ae8851f1fe",
   "metadata": {},
   "outputs": [
    {
     "data": {
      "text/html": [
       "<div>\n",
       "<style scoped>\n",
       "    .dataframe tbody tr th:only-of-type {\n",
       "        vertical-align: middle;\n",
       "    }\n",
       "\n",
       "    .dataframe tbody tr th {\n",
       "        vertical-align: top;\n",
       "    }\n",
       "\n",
       "    .dataframe thead th {\n",
       "        text-align: right;\n",
       "    }\n",
       "</style>\n",
       "<table border=\"1\" class=\"dataframe\">\n",
       "  <thead>\n",
       "    <tr style=\"text-align: right;\">\n",
       "      <th></th>\n",
       "      <th>lat</th>\n",
       "      <th>lng</th>\n",
       "      <th>population</th>\n",
       "      <th>id</th>\n",
       "    </tr>\n",
       "  </thead>\n",
       "  <tbody>\n",
       "    <tr>\n",
       "      <th>count</th>\n",
       "      <td>48056.000000</td>\n",
       "      <td>48056.000000</td>\n",
       "      <td>4.780500e+04</td>\n",
       "      <td>4.805600e+04</td>\n",
       "    </tr>\n",
       "    <tr>\n",
       "      <th>mean</th>\n",
       "      <td>25.389866</td>\n",
       "      <td>16.247695</td>\n",
       "      <td>1.078622e+05</td>\n",
       "      <td>1.447218e+09</td>\n",
       "    </tr>\n",
       "    <tr>\n",
       "      <th>std</th>\n",
       "      <td>22.982238</td>\n",
       "      <td>70.462216</td>\n",
       "      <td>6.855323e+05</td>\n",
       "      <td>2.611761e+08</td>\n",
       "    </tr>\n",
       "    <tr>\n",
       "      <th>min</th>\n",
       "      <td>-54.933300</td>\n",
       "      <td>-179.600000</td>\n",
       "      <td>0.000000e+00</td>\n",
       "      <td>1.004003e+09</td>\n",
       "    </tr>\n",
       "    <tr>\n",
       "      <th>25%</th>\n",
       "      <td>12.192200</td>\n",
       "      <td>-44.159325</td>\n",
       "      <td>1.219100e+04</td>\n",
       "      <td>1.250541e+09</td>\n",
       "    </tr>\n",
       "    <tr>\n",
       "      <th>50%</th>\n",
       "      <td>30.927950</td>\n",
       "      <td>14.480550</td>\n",
       "      <td>2.091400e+04</td>\n",
       "      <td>1.380340e+09</td>\n",
       "    </tr>\n",
       "    <tr>\n",
       "      <th>75%</th>\n",
       "      <td>42.617200</td>\n",
       "      <td>77.081975</td>\n",
       "      <td>4.683100e+04</td>\n",
       "      <td>1.704000e+09</td>\n",
       "    </tr>\n",
       "    <tr>\n",
       "      <th>max</th>\n",
       "      <td>81.716600</td>\n",
       "      <td>179.366700</td>\n",
       "      <td>3.778500e+07</td>\n",
       "      <td>1.934976e+09</td>\n",
       "    </tr>\n",
       "  </tbody>\n",
       "</table>\n",
       "</div>"
      ],
      "text/plain": [
       "                lat           lng    population            id\n",
       "count  48056.000000  48056.000000  4.780500e+04  4.805600e+04\n",
       "mean      25.389866     16.247695  1.078622e+05  1.447218e+09\n",
       "std       22.982238     70.462216  6.855323e+05  2.611761e+08\n",
       "min      -54.933300   -179.600000  0.000000e+00  1.004003e+09\n",
       "25%       12.192200    -44.159325  1.219100e+04  1.250541e+09\n",
       "50%       30.927950     14.480550  2.091400e+04  1.380340e+09\n",
       "75%       42.617200     77.081975  4.683100e+04  1.704000e+09\n",
       "max       81.716600    179.366700  3.778500e+07  1.934976e+09"
      ]
     },
     "execution_count": 7,
     "metadata": {},
     "output_type": "execute_result"
    }
   ],
   "source": [
    "df.describe()"
   ]
  },
  {
   "cell_type": "code",
   "execution_count": 8,
   "id": "525af5ee-12bb-46de-9a45-1c14dda2d0e5",
   "metadata": {},
   "outputs": [
    {
     "data": {
      "text/plain": [
       "city              0\n",
       "city_ascii        1\n",
       "lat               0\n",
       "lng               0\n",
       "country           0\n",
       "iso2             33\n",
       "iso3              0\n",
       "admin_name      201\n",
       "capital       32919\n",
       "population      251\n",
       "id                0\n",
       "dtype: int64"
      ]
     },
     "execution_count": 8,
     "metadata": {},
     "output_type": "execute_result"
    }
   ],
   "source": [
    "df.isna().sum()"
   ]
  },
  {
   "cell_type": "code",
   "execution_count": 27,
   "id": "147b9cf3-7e67-4d96-99dd-769b465bc0ce",
   "metadata": {},
   "outputs": [
    {
     "data": {
      "text/html": [
       "<div>\n",
       "<style scoped>\n",
       "    .dataframe tbody tr th:only-of-type {\n",
       "        vertical-align: middle;\n",
       "    }\n",
       "\n",
       "    .dataframe tbody tr th {\n",
       "        vertical-align: top;\n",
       "    }\n",
       "\n",
       "    .dataframe thead th {\n",
       "        text-align: right;\n",
       "    }\n",
       "</style>\n",
       "<table border=\"1\" class=\"dataframe\">\n",
       "  <thead>\n",
       "    <tr style=\"text-align: right;\">\n",
       "      <th></th>\n",
       "      <th>city</th>\n",
       "      <th>city_ascii</th>\n",
       "      <th>lat</th>\n",
       "      <th>lng</th>\n",
       "      <th>country</th>\n",
       "      <th>iso2</th>\n",
       "      <th>iso3</th>\n",
       "      <th>admin_name</th>\n",
       "      <th>capital</th>\n",
       "      <th>population</th>\n",
       "      <th>id</th>\n",
       "    </tr>\n",
       "  </thead>\n",
       "  <tbody>\n",
       "    <tr>\n",
       "      <th>0</th>\n",
       "      <td>Tokyo</td>\n",
       "      <td>Tokyo</td>\n",
       "      <td>35.6870</td>\n",
       "      <td>139.7495</td>\n",
       "      <td>Japan</td>\n",
       "      <td>JP</td>\n",
       "      <td>JPN</td>\n",
       "      <td>None</td>\n",
       "      <td>primary</td>\n",
       "      <td>37785000.0</td>\n",
       "      <td>1392685764</td>\n",
       "    </tr>\n",
       "    <tr>\n",
       "      <th>1</th>\n",
       "      <td>Jakarta</td>\n",
       "      <td>Jakarta</td>\n",
       "      <td>-6.1750</td>\n",
       "      <td>106.8275</td>\n",
       "      <td>Indonesia</td>\n",
       "      <td>ID</td>\n",
       "      <td>IDN</td>\n",
       "      <td>None</td>\n",
       "      <td>primary</td>\n",
       "      <td>33756000.0</td>\n",
       "      <td>1360771077</td>\n",
       "    </tr>\n",
       "    <tr>\n",
       "      <th>2</th>\n",
       "      <td>Delhi</td>\n",
       "      <td>Delhi</td>\n",
       "      <td>28.6100</td>\n",
       "      <td>77.2300</td>\n",
       "      <td>India</td>\n",
       "      <td>IN</td>\n",
       "      <td>IND</td>\n",
       "      <td>None</td>\n",
       "      <td>admin</td>\n",
       "      <td>32226000.0</td>\n",
       "      <td>1356872604</td>\n",
       "    </tr>\n",
       "    <tr>\n",
       "      <th>3</th>\n",
       "      <td>Guangzhou</td>\n",
       "      <td>Guangzhou</td>\n",
       "      <td>23.1300</td>\n",
       "      <td>113.2600</td>\n",
       "      <td>China</td>\n",
       "      <td>CN</td>\n",
       "      <td>CHN</td>\n",
       "      <td>None</td>\n",
       "      <td>admin</td>\n",
       "      <td>26940000.0</td>\n",
       "      <td>1156237133</td>\n",
       "    </tr>\n",
       "    <tr>\n",
       "      <th>4</th>\n",
       "      <td>Mumbai</td>\n",
       "      <td>Mumbai</td>\n",
       "      <td>19.0761</td>\n",
       "      <td>72.8775</td>\n",
       "      <td>India</td>\n",
       "      <td>IN</td>\n",
       "      <td>IND</td>\n",
       "      <td>None</td>\n",
       "      <td>admin</td>\n",
       "      <td>24973000.0</td>\n",
       "      <td>1356226629</td>\n",
       "    </tr>\n",
       "    <tr>\n",
       "      <th>...</th>\n",
       "      <td>...</td>\n",
       "      <td>...</td>\n",
       "      <td>...</td>\n",
       "      <td>...</td>\n",
       "      <td>...</td>\n",
       "      <td>...</td>\n",
       "      <td>...</td>\n",
       "      <td>...</td>\n",
       "      <td>...</td>\n",
       "      <td>...</td>\n",
       "      <td>...</td>\n",
       "    </tr>\n",
       "    <tr>\n",
       "      <th>47800</th>\n",
       "      <td>Kostel</td>\n",
       "      <td>Kostel</td>\n",
       "      <td>45.5088</td>\n",
       "      <td>14.9100</td>\n",
       "      <td>Slovenia</td>\n",
       "      <td>SI</td>\n",
       "      <td>SVN</td>\n",
       "      <td>None</td>\n",
       "      <td>admin</td>\n",
       "      <td>10.0</td>\n",
       "      <td>1705541759</td>\n",
       "    </tr>\n",
       "    <tr>\n",
       "      <th>47801</th>\n",
       "      <td>Kingoonya</td>\n",
       "      <td>Kingoonya</td>\n",
       "      <td>-30.9170</td>\n",
       "      <td>135.3147</td>\n",
       "      <td>Australia</td>\n",
       "      <td>AU</td>\n",
       "      <td>AUS</td>\n",
       "      <td>None</td>\n",
       "      <td>NaN</td>\n",
       "      <td>4.0</td>\n",
       "      <td>1036942792</td>\n",
       "    </tr>\n",
       "    <tr>\n",
       "      <th>47823</th>\n",
       "      <td>Chuquicamata</td>\n",
       "      <td>Chuquicamata</td>\n",
       "      <td>-22.3169</td>\n",
       "      <td>-68.9301</td>\n",
       "      <td>Chile</td>\n",
       "      <td>CL</td>\n",
       "      <td>CHL</td>\n",
       "      <td>None</td>\n",
       "      <td>NaN</td>\n",
       "      <td>0.0</td>\n",
       "      <td>1152468996</td>\n",
       "    </tr>\n",
       "    <tr>\n",
       "      <th>47966</th>\n",
       "      <td>Nordvik</td>\n",
       "      <td>Nordvik</td>\n",
       "      <td>73.9975</td>\n",
       "      <td>111.4633</td>\n",
       "      <td>Russia</td>\n",
       "      <td>RU</td>\n",
       "      <td>RUS</td>\n",
       "      <td>None</td>\n",
       "      <td>NaN</td>\n",
       "      <td>0.0</td>\n",
       "      <td>1643587468</td>\n",
       "    </tr>\n",
       "    <tr>\n",
       "      <th>47967</th>\n",
       "      <td>Logashkino</td>\n",
       "      <td>Logashkino</td>\n",
       "      <td>70.8500</td>\n",
       "      <td>153.9167</td>\n",
       "      <td>Russia</td>\n",
       "      <td>RU</td>\n",
       "      <td>RUS</td>\n",
       "      <td>None</td>\n",
       "      <td>NaN</td>\n",
       "      <td>0.0</td>\n",
       "      <td>1643050775</td>\n",
       "    </tr>\n",
       "  </tbody>\n",
       "</table>\n",
       "<p>47805 rows × 11 columns</p>\n",
       "</div>"
      ],
      "text/plain": [
       "               city    city_ascii      lat       lng    country iso2 iso3  \\\n",
       "0             Tokyo         Tokyo  35.6870  139.7495      Japan   JP  JPN   \n",
       "1           Jakarta       Jakarta  -6.1750  106.8275  Indonesia   ID  IDN   \n",
       "2             Delhi         Delhi  28.6100   77.2300      India   IN  IND   \n",
       "3         Guangzhou     Guangzhou  23.1300  113.2600      China   CN  CHN   \n",
       "4            Mumbai        Mumbai  19.0761   72.8775      India   IN  IND   \n",
       "...             ...           ...      ...       ...        ...  ...  ...   \n",
       "47800        Kostel        Kostel  45.5088   14.9100   Slovenia   SI  SVN   \n",
       "47801     Kingoonya     Kingoonya -30.9170  135.3147  Australia   AU  AUS   \n",
       "47823  Chuquicamata  Chuquicamata -22.3169  -68.9301      Chile   CL  CHL   \n",
       "47966       Nordvik       Nordvik  73.9975  111.4633     Russia   RU  RUS   \n",
       "47967    Logashkino    Logashkino  70.8500  153.9167     Russia   RU  RUS   \n",
       "\n",
       "      admin_name  capital  population          id  \n",
       "0           None  primary  37785000.0  1392685764  \n",
       "1           None  primary  33756000.0  1360771077  \n",
       "2           None    admin  32226000.0  1356872604  \n",
       "3           None    admin  26940000.0  1156237133  \n",
       "4           None    admin  24973000.0  1356226629  \n",
       "...          ...      ...         ...         ...  \n",
       "47800       None    admin        10.0  1705541759  \n",
       "47801       None      NaN         4.0  1036942792  \n",
       "47823       None      NaN         0.0  1152468996  \n",
       "47966       None      NaN         0.0  1643587468  \n",
       "47967       None      NaN         0.0  1643050775  \n",
       "\n",
       "[47805 rows x 11 columns]"
      ]
     },
     "execution_count": 27,
     "metadata": {},
     "output_type": "execute_result"
    }
   ],
   "source": [
    "df.dropna(subset=['population'])"
   ]
  },
  {
   "cell_type": "code",
   "execution_count": 28,
   "id": "1bfcc1ee-dc14-47d6-8058-07a7fcd21ef8",
   "metadata": {},
   "outputs": [
    {
     "data": {
      "text/html": [
       "<div>\n",
       "<style scoped>\n",
       "    .dataframe tbody tr th:only-of-type {\n",
       "        vertical-align: middle;\n",
       "    }\n",
       "\n",
       "    .dataframe tbody tr th {\n",
       "        vertical-align: top;\n",
       "    }\n",
       "\n",
       "    .dataframe thead th {\n",
       "        text-align: right;\n",
       "    }\n",
       "</style>\n",
       "<table border=\"1\" class=\"dataframe\">\n",
       "  <thead>\n",
       "    <tr style=\"text-align: right;\">\n",
       "      <th></th>\n",
       "      <th>city</th>\n",
       "      <th>city_ascii</th>\n",
       "      <th>lat</th>\n",
       "      <th>lng</th>\n",
       "      <th>country</th>\n",
       "      <th>iso2</th>\n",
       "      <th>iso3</th>\n",
       "      <th>admin_name</th>\n",
       "      <th>capital</th>\n",
       "      <th>population</th>\n",
       "      <th>id</th>\n",
       "    </tr>\n",
       "  </thead>\n",
       "  <tbody>\n",
       "    <tr>\n",
       "      <th>0</th>\n",
       "      <td>Tokyo</td>\n",
       "      <td>Tokyo</td>\n",
       "      <td>35.6870</td>\n",
       "      <td>139.7495</td>\n",
       "      <td>Japan</td>\n",
       "      <td>JP</td>\n",
       "      <td>JPN</td>\n",
       "      <td>None</td>\n",
       "      <td>primary</td>\n",
       "      <td>37785000.0</td>\n",
       "      <td>1392685764</td>\n",
       "    </tr>\n",
       "    <tr>\n",
       "      <th>1</th>\n",
       "      <td>Jakarta</td>\n",
       "      <td>Jakarta</td>\n",
       "      <td>-6.1750</td>\n",
       "      <td>106.8275</td>\n",
       "      <td>Indonesia</td>\n",
       "      <td>ID</td>\n",
       "      <td>IDN</td>\n",
       "      <td>None</td>\n",
       "      <td>primary</td>\n",
       "      <td>33756000.0</td>\n",
       "      <td>1360771077</td>\n",
       "    </tr>\n",
       "    <tr>\n",
       "      <th>2</th>\n",
       "      <td>Delhi</td>\n",
       "      <td>Delhi</td>\n",
       "      <td>28.6100</td>\n",
       "      <td>77.2300</td>\n",
       "      <td>India</td>\n",
       "      <td>IN</td>\n",
       "      <td>IND</td>\n",
       "      <td>None</td>\n",
       "      <td>admin</td>\n",
       "      <td>32226000.0</td>\n",
       "      <td>1356872604</td>\n",
       "    </tr>\n",
       "    <tr>\n",
       "      <th>3</th>\n",
       "      <td>Guangzhou</td>\n",
       "      <td>Guangzhou</td>\n",
       "      <td>23.1300</td>\n",
       "      <td>113.2600</td>\n",
       "      <td>China</td>\n",
       "      <td>CN</td>\n",
       "      <td>CHN</td>\n",
       "      <td>None</td>\n",
       "      <td>admin</td>\n",
       "      <td>26940000.0</td>\n",
       "      <td>1156237133</td>\n",
       "    </tr>\n",
       "    <tr>\n",
       "      <th>4</th>\n",
       "      <td>Mumbai</td>\n",
       "      <td>Mumbai</td>\n",
       "      <td>19.0761</td>\n",
       "      <td>72.8775</td>\n",
       "      <td>India</td>\n",
       "      <td>IN</td>\n",
       "      <td>IND</td>\n",
       "      <td>None</td>\n",
       "      <td>admin</td>\n",
       "      <td>24973000.0</td>\n",
       "      <td>1356226629</td>\n",
       "    </tr>\n",
       "  </tbody>\n",
       "</table>\n",
       "</div>"
      ],
      "text/plain": [
       "        city city_ascii      lat       lng    country iso2 iso3 admin_name  \\\n",
       "0      Tokyo      Tokyo  35.6870  139.7495      Japan   JP  JPN       None   \n",
       "1    Jakarta    Jakarta  -6.1750  106.8275  Indonesia   ID  IDN       None   \n",
       "2      Delhi      Delhi  28.6100   77.2300      India   IN  IND       None   \n",
       "3  Guangzhou  Guangzhou  23.1300  113.2600      China   CN  CHN       None   \n",
       "4     Mumbai     Mumbai  19.0761   72.8775      India   IN  IND       None   \n",
       "\n",
       "   capital  population          id  \n",
       "0  primary  37785000.0  1392685764  \n",
       "1  primary  33756000.0  1360771077  \n",
       "2    admin  32226000.0  1356872604  \n",
       "3    admin  26940000.0  1156237133  \n",
       "4    admin  24973000.0  1356226629  "
      ]
     },
     "execution_count": 28,
     "metadata": {},
     "output_type": "execute_result"
    }
   ],
   "source": [
    "df.head()"
   ]
  },
  {
   "cell_type": "code",
   "execution_count": 29,
   "id": "93cac404-1716-4391-9c13-8227ee8d9fb9",
   "metadata": {},
   "outputs": [
    {
     "data": {
      "text/plain": [
       "city              0\n",
       "city_ascii      251\n",
       "lat               0\n",
       "lng               0\n",
       "country           0\n",
       "iso2             33\n",
       "iso3              0\n",
       "admin_name    48056\n",
       "capital       32919\n",
       "population      251\n",
       "id                0\n",
       "dtype: int64"
      ]
     },
     "execution_count": 29,
     "metadata": {},
     "output_type": "execute_result"
    }
   ],
   "source": [
    "df.isna().sum()"
   ]
  },
  {
   "cell_type": "code",
   "execution_count": 30,
   "id": "285fd03c-506a-4699-94fd-6c2ce7268265",
   "metadata": {},
   "outputs": [],
   "source": [
    "# 1. fill missing value in city_ascii\n",
    "df['city_ascii'] = df['city_ascii'].fillna(df['city'])"
   ]
  },
  {
   "cell_type": "code",
   "execution_count": 31,
   "id": "af33550f-825f-46f1-a6c4-9cb137b19ed1",
   "metadata": {},
   "outputs": [
    {
     "data": {
      "text/plain": [
       "city              0\n",
       "city_ascii        0\n",
       "lat               0\n",
       "lng               0\n",
       "country           0\n",
       "iso2             33\n",
       "iso3              0\n",
       "admin_name    48056\n",
       "capital       32919\n",
       "population      251\n",
       "id                0\n",
       "dtype: int64"
      ]
     },
     "execution_count": 31,
     "metadata": {},
     "output_type": "execute_result"
    }
   ],
   "source": [
    "# recheck isna\n",
    "df.isna().sum()"
   ]
  },
  {
   "cell_type": "code",
   "execution_count": 32,
   "id": "7066d1a8-22f1-4297-a2e0-3e28c3121acb",
   "metadata": {},
   "outputs": [],
   "source": [
    "# 2. missing admin_name with 'unknown'\n",
    "df['admin_name'] = df['admin_name'].fillna('unknown')"
   ]
  },
  {
   "cell_type": "code",
   "execution_count": 33,
   "id": "95ab69fa-53af-4751-bf85-ba7e9c71116e",
   "metadata": {},
   "outputs": [
    {
     "data": {
      "text/plain": [
       "city              0\n",
       "city_ascii        0\n",
       "lat               0\n",
       "lng               0\n",
       "country           0\n",
       "iso2             33\n",
       "iso3              0\n",
       "admin_name        0\n",
       "capital       32919\n",
       "population      251\n",
       "id                0\n",
       "dtype: int64"
      ]
     },
     "execution_count": 33,
     "metadata": {},
     "output_type": "execute_result"
    }
   ],
   "source": [
    "# recheck isna\n",
    "df.isna().sum()"
   ]
  },
  {
   "cell_type": "code",
   "execution_count": 36,
   "id": "aa566235-7185-44f7-a068-9be0528f7baa",
   "metadata": {},
   "outputs": [],
   "source": [
    "# 3. dropna from population\n",
    "df = df.dropna(subset=['population'])"
   ]
  },
  {
   "cell_type": "code",
   "execution_count": 37,
   "id": "84aa7394-5f45-42bd-977e-50a0857dc607",
   "metadata": {},
   "outputs": [
    {
     "data": {
      "text/plain": [
       "city              0\n",
       "city_ascii        0\n",
       "lat               0\n",
       "lng               0\n",
       "country           0\n",
       "iso2             33\n",
       "iso3              0\n",
       "admin_name        0\n",
       "capital       32879\n",
       "population        0\n",
       "id                0\n",
       "dtype: int64"
      ]
     },
     "execution_count": 37,
     "metadata": {},
     "output_type": "execute_result"
    }
   ],
   "source": [
    "df.isna().sum()"
   ]
  },
  {
   "cell_type": "code",
   "execution_count": 39,
   "id": "e8e10a32-5877-4653-9f31-edeb0c4956fe",
   "metadata": {},
   "outputs": [],
   "source": [
    "df['capital'].fillna('0', inplace=True)"
   ]
  },
  {
   "cell_type": "code",
   "execution_count": 40,
   "id": "9ebb4161-9b7b-49bd-b5d4-5c6b4e22de42",
   "metadata": {},
   "outputs": [],
   "source": [
    "df.to_csv(r'C:\\Users\\Admin\\Downloads\\wcp\\cleaned_dataset.csv', index=False)"
   ]
  },
  {
   "cell_type": "code",
   "execution_count": 41,
   "id": "0bb482be-3a6d-43be-a2d8-eecb2c3549ce",
   "metadata": {},
   "outputs": [],
   "source": [
    "# Basic Visualization\n",
    "\n",
    "import matplotlib.pyplot as plt\n",
    "import seaborn as sns"
   ]
  },
  {
   "cell_type": "code",
   "execution_count": 48,
   "id": "2ef8964e-7da1-4ebd-8de2-99f85c8b2bc7",
   "metadata": {},
   "outputs": [
    {
     "data": {
      "image/png": "[encoded data removed]",
      "text/plain": [
       "<Figure size 1200x600 with 1 Axes>"
      ]
     },
     "metadata": {},
     "output_type": "display_data"
    }
   ],
   "source": [
    "# Population distribution of cities\n",
    "plt.figure(figsize=(12,6))\n",
    "sns.histplot(df['population'], bins=50, kde=True)\n",
    "plt.title('Distribution of city population', fontsize=16)\n",
    "plt.xlabel('population', fontsize=12)\n",
    "plt.ylabel('Number of Cities', fontsize=12)\n",
    "plt.tight_layout()\n",
    "plt.show()"
   ]
  },
  {
   "cell_type": "code",
   "execution_count": 50,
   "id": "36034e53-c240-409f-8ea7-623a2d1bbd7f",
   "metadata": {},
   "outputs": [],
   "source": [
    "# sort the df \n",
    "top_cities = df.sort_values(by= 'population', ascending=False).head(20)"
   ]
  },
  {
   "cell_type": "code",
   "execution_count": 51,
   "id": "5e5a731e-e588-442f-a29d-f231129abfdd",
   "metadata": {},
   "outputs": [
    {
     "name": "stderr",
     "output_type": "stream",
     "text": [
      "C:\\Users\\Admin\\AppData\\Local\\Temp\\ipykernel_29600\\1083023490.py:2: FutureWarning: \n",
      "\n",
      "Passing `palette` without assigning `hue` is deprecated and will be removed in v0.14.0. Assign the `y` variable to `hue` and set `legend=False` for the same effect.\n",
      "\n",
      "  sns.barplot(data=top_cities, x='population', y='city', palette='viridis')\n"
     ]
    },
    {
     "data": {
      "image/png": "[encoded data removed]",
      "text/plain": [
       "<Figure size 1400x800 with 1 Axes>"
      ]
     },
     "metadata": {},
     "output_type": "display_data"
    }
   ],
   "source": [
    "plt.figure(figsize=(14, 8))\n",
    "sns.barplot(data=top_cities, x='population', y='city', palette='viridis')\n",
    "plt.title('Top 20 Most Populated Cities', fontsize=16)\n",
    "plt.xlabel('Population', fontsize=12)\n",
    "plt.ylabel('City', fontsize=12)\n",
    "plt.tight_layout()\n",
    "plt.show()"
   ]
  },
  {
   "cell_type": "code",
   "execution_count": null,
   "id": "6c68845f-56e2-4ff1-a9b7-e52df2beb34c",
   "metadata": {},
   "outputs": [],
   "source": []
  }
 ],
 "metadata": {
  "kernelspec": {
   "display_name": "Python 3 (ipykernel)",
   "language": "python",
   "name": "python3"
  },
  "language_info": {
   "codemirror_mode": {
    "name": "ipython",
    "version": 3
   },
   "file_extension": ".py",
   "mimetype": "text/x-python",
   "name": "python",
   "nbconvert_exporter": "python",
   "pygments_lexer": "ipython3",
   "version": "3.12.7"
  }
 },
 "nbformat": 4,
 "nbformat_minor": 5
}
